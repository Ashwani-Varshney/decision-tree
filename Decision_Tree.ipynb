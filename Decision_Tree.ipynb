{
 "cells": [
  {
   "cell_type": "code",
   "execution_count": 23,
   "metadata": {},
   "outputs": [
    {
     "data": {
      "text/html": [
       "<div>\n",
       "<style scoped>\n",
       "    .dataframe tbody tr th:only-of-type {\n",
       "        vertical-align: middle;\n",
       "    }\n",
       "\n",
       "    .dataframe tbody tr th {\n",
       "        vertical-align: top;\n",
       "    }\n",
       "\n",
       "    .dataframe thead th {\n",
       "        text-align: right;\n",
       "    }\n",
       "</style>\n",
       "<table border=\"1\" class=\"dataframe\">\n",
       "  <thead>\n",
       "    <tr style=\"text-align: right;\">\n",
       "      <th></th>\n",
       "      <th>STATE</th>\n",
       "      <th>JAN</th>\n",
       "      <th>FEB</th>\n",
       "      <th>MAR</th>\n",
       "      <th>APR</th>\n",
       "      <th>MAY</th>\n",
       "      <th>JUN</th>\n",
       "      <th>JUL</th>\n",
       "      <th>AUG</th>\n",
       "      <th>SEP</th>\n",
       "      <th>OCT</th>\n",
       "      <th>NOV</th>\n",
       "      <th>DEC</th>\n",
       "    </tr>\n",
       "  </thead>\n",
       "  <tbody>\n",
       "    <tr>\n",
       "      <td>0</td>\n",
       "      <td>ANDAMAN And NICOBAR ISLANDS</td>\n",
       "      <td>107.3</td>\n",
       "      <td>57.9</td>\n",
       "      <td>65.2</td>\n",
       "      <td>117.0</td>\n",
       "      <td>358.5</td>\n",
       "      <td>295.5</td>\n",
       "      <td>285.0</td>\n",
       "      <td>271.9</td>\n",
       "      <td>354.8</td>\n",
       "      <td>326.0</td>\n",
       "      <td>315.2</td>\n",
       "      <td>250.9</td>\n",
       "    </tr>\n",
       "    <tr>\n",
       "      <td>1</td>\n",
       "      <td>ANDAMAN And NICOBAR ISLANDS</td>\n",
       "      <td>43.7</td>\n",
       "      <td>26.0</td>\n",
       "      <td>18.6</td>\n",
       "      <td>90.5</td>\n",
       "      <td>374.4</td>\n",
       "      <td>457.2</td>\n",
       "      <td>421.3</td>\n",
       "      <td>423.1</td>\n",
       "      <td>455.6</td>\n",
       "      <td>301.2</td>\n",
       "      <td>275.8</td>\n",
       "      <td>128.3</td>\n",
       "    </tr>\n",
       "    <tr>\n",
       "      <td>2</td>\n",
       "      <td>ANDAMAN And NICOBAR ISLANDS</td>\n",
       "      <td>32.7</td>\n",
       "      <td>15.9</td>\n",
       "      <td>8.6</td>\n",
       "      <td>53.4</td>\n",
       "      <td>343.6</td>\n",
       "      <td>503.3</td>\n",
       "      <td>465.4</td>\n",
       "      <td>460.9</td>\n",
       "      <td>454.8</td>\n",
       "      <td>276.1</td>\n",
       "      <td>198.6</td>\n",
       "      <td>100.0</td>\n",
       "    </tr>\n",
       "    <tr>\n",
       "      <td>3</td>\n",
       "      <td>ARUNACHAL PRADESH</td>\n",
       "      <td>42.2</td>\n",
       "      <td>80.8</td>\n",
       "      <td>176.4</td>\n",
       "      <td>358.5</td>\n",
       "      <td>306.4</td>\n",
       "      <td>447.0</td>\n",
       "      <td>660.1</td>\n",
       "      <td>427.8</td>\n",
       "      <td>313.6</td>\n",
       "      <td>167.1</td>\n",
       "      <td>34.1</td>\n",
       "      <td>29.8</td>\n",
       "    </tr>\n",
       "    <tr>\n",
       "      <td>4</td>\n",
       "      <td>ARUNACHAL PRADESH</td>\n",
       "      <td>33.3</td>\n",
       "      <td>79.5</td>\n",
       "      <td>105.9</td>\n",
       "      <td>216.5</td>\n",
       "      <td>323.0</td>\n",
       "      <td>738.3</td>\n",
       "      <td>990.9</td>\n",
       "      <td>711.2</td>\n",
       "      <td>568.0</td>\n",
       "      <td>206.9</td>\n",
       "      <td>29.5</td>\n",
       "      <td>31.7</td>\n",
       "    </tr>\n",
       "  </tbody>\n",
       "</table>\n",
       "</div>"
      ],
      "text/plain": [
       "                         STATE    JAN   FEB    MAR    APR    MAY    JUN  \\\n",
       "0  ANDAMAN And NICOBAR ISLANDS  107.3  57.9   65.2  117.0  358.5  295.5   \n",
       "1  ANDAMAN And NICOBAR ISLANDS   43.7  26.0   18.6   90.5  374.4  457.2   \n",
       "2  ANDAMAN And NICOBAR ISLANDS   32.7  15.9    8.6   53.4  343.6  503.3   \n",
       "3            ARUNACHAL PRADESH   42.2  80.8  176.4  358.5  306.4  447.0   \n",
       "4            ARUNACHAL PRADESH   33.3  79.5  105.9  216.5  323.0  738.3   \n",
       "\n",
       "     JUL    AUG    SEP    OCT    NOV    DEC  \n",
       "0  285.0  271.9  354.8  326.0  315.2  250.9  \n",
       "1  421.3  423.1  455.6  301.2  275.8  128.3  \n",
       "2  465.4  460.9  454.8  276.1  198.6  100.0  \n",
       "3  660.1  427.8  313.6  167.1   34.1   29.8  \n",
       "4  990.9  711.2  568.0  206.9   29.5   31.7  "
      ]
     },
     "execution_count": 23,
     "metadata": {},
     "output_type": "execute_result"
    }
   ],
   "source": [
    "import pandas as pd\n",
    "dataset=pd.read_csv('District_Rainfall_Normal_0.csv')  #importing the dataset\n",
    "dataset.head()"
   ]
  },
  {
   "cell_type": "code",
   "execution_count": 24,
   "metadata": {},
   "outputs": [],
   "source": [
    "X=dataset.iloc[:,1:14].values    #X contains the independent variables"
   ]
  },
  {
   "cell_type": "code",
   "execution_count": 25,
   "metadata": {},
   "outputs": [],
   "source": [
    "y=dataset.iloc[:,0].values      #y contains the labels"
   ]
  },
  {
   "cell_type": "code",
   "execution_count": 26,
   "metadata": {},
   "outputs": [],
   "source": [
    "from sklearn.model_selection import train_test_split\n",
    "x_train,x_test,y_train,y_test=train_test_split(X,y,test_size=0.3,random_state=0) #splitting into training and test sets"
   ]
  },
  {
   "cell_type": "code",
   "execution_count": 27,
   "metadata": {},
   "outputs": [
    {
     "data": {
      "text/plain": [
       "DecisionTreeClassifier(class_weight=None, criterion='gini', max_depth=15,\n",
       "                       max_features=None, max_leaf_nodes=None,\n",
       "                       min_impurity_decrease=0.0, min_impurity_split=None,\n",
       "                       min_samples_leaf=1, min_samples_split=2,\n",
       "                       min_weight_fraction_leaf=0.0, presort=False,\n",
       "                       random_state=0, splitter='best')"
      ]
     },
     "execution_count": 27,
     "metadata": {},
     "output_type": "execute_result"
    }
   ],
   "source": [
    "from sklearn.tree import DecisionTreeClassifier\n",
    "classifier=DecisionTreeClassifier(criterion='gini',max_depth=15,random_state=0)     #parameter tuning to increase accuracy\n",
    "classifier.fit(x_train,y_train)"
   ]
  },
  {
   "cell_type": "code",
   "execution_count": 28,
   "metadata": {},
   "outputs": [],
   "source": [
    "y_pred=classifier.predict(x_test)"
   ]
  },
  {
   "cell_type": "code",
   "execution_count": 29,
   "metadata": {},
   "outputs": [],
   "source": [
    "from sklearn.metrics import confusion_matrix\n",
    "cm=confusion_matrix(y_test,y_pred)         # confusion matrix"
   ]
  },
  {
   "cell_type": "code",
   "execution_count": 30,
   "metadata": {},
   "outputs": [
    {
     "data": {
      "text/plain": [
       "UTTAR PRADESH                  71\n",
       "MADHYA PRADESH                 50\n",
       "BIHAR                          38\n",
       "MAHARASHTRA                    35\n",
       "RAJASTHAN                      33\n",
       "TAMIL NADU                     32\n",
       "ORISSA                         30\n",
       "KARNATAKA                      30\n",
       "ASSAM                          27\n",
       "GUJARAT                        26\n",
       "JHARKHAND                      24\n",
       "ANDHRA PRADESH                 23\n",
       "JAMMU AND KASHMIR              22\n",
       "HARYANA                        21\n",
       "PUNJAB                         20\n",
       "WEST BENGAL                    19\n",
       "CHATISGARH                     18\n",
       "ARUNACHAL PRADESH              16\n",
       "KERALA                         14\n",
       "UTTARANCHAL                    13\n",
       "HIMACHAL                       12\n",
       "NAGALAND                       11\n",
       "DELHI                           9\n",
       "MANIPUR                         9\n",
       "MIZORAM                         9\n",
       "MEGHALAYA                       7\n",
       "PONDICHERRY                     4\n",
       "TRIPURA                         4\n",
       "SIKKIM                          4\n",
       "ANDAMAN And NICOBAR ISLANDS     3\n",
       "DAMAN AND DUI                   2\n",
       "GOA                             2\n",
       "CHANDIGARH                      1\n",
       "LAKSHADWEEP                     1\n",
       "DADAR NAGAR HAVELI              1\n",
       "Name: STATE, dtype: int64"
      ]
     },
     "execution_count": 30,
     "metadata": {},
     "output_type": "execute_result"
    }
   ],
   "source": [
    "cm\n",
    "dataset['STATE'].value_counts()"
   ]
  },
  {
   "cell_type": "code",
   "execution_count": 31,
   "metadata": {},
   "outputs": [
    {
     "data": {
      "text/plain": [
       "array(['ORISSA', 'JHARKHAND', 'GUJARAT', 'WEST BENGAL', 'PONDICHERRY',\n",
       "       'UTTAR PRADESH', 'UTTAR PRADESH', 'GUJARAT', 'BIHAR', 'BIHAR',\n",
       "       'HARYANA', 'TAMIL NADU', 'DADAR NAGAR HAVELI', 'HIMACHAL',\n",
       "       'KARNATAKA', 'JAMMU AND KASHMIR', 'MADHYA PRADESH', 'HIMACHAL',\n",
       "       'TAMIL NADU', 'WEST BENGAL', 'MAHARASHTRA', 'RAJASTHAN',\n",
       "       'CHATISGARH', 'PUNJAB', 'JHARKHAND', 'JHARKHAND', 'MADHYA PRADESH',\n",
       "       'MAHARASHTRA', 'ORISSA', 'MEGHALAYA', 'TRIPURA', 'GUJARAT',\n",
       "       'TRIPURA', 'MADHYA PRADESH', 'MADHYA PRADESH', 'MAHARASHTRA',\n",
       "       'HARYANA', 'BIHAR', 'WEST BENGAL', 'TAMIL NADU', 'TAMIL NADU',\n",
       "       'KERALA', 'KARNATAKA', 'UTTAR PRADESH', 'HARYANA', 'ASSAM',\n",
       "       'HIMACHAL', 'RAJASTHAN', 'ANDAMAN And NICOBAR ISLANDS',\n",
       "       'ARUNACHAL PRADESH', 'ASSAM', 'KARNATAKA', 'MADHYA PRADESH',\n",
       "       'ANDHRA PRADESH', 'ASSAM', 'UTTAR PRADESH', 'MADHYA PRADESH',\n",
       "       'MAHARASHTRA', 'HARYANA', 'UTTAR PRADESH', 'ANDHRA PRADESH',\n",
       "       'NAGALAND', 'ARUNACHAL PRADESH', 'JHARKHAND', 'UTTAR PRADESH',\n",
       "       'UTTAR PRADESH', 'MADHYA PRADESH', 'MANIPUR', 'UTTAR PRADESH',\n",
       "       'KARNATAKA', 'UTTAR PRADESH', 'JAMMU AND KASHMIR', 'MAHARASHTRA',\n",
       "       'MADHYA PRADESH', 'UTTAR PRADESH', 'CHATISGARH', 'MIZORAM',\n",
       "       'UTTARANCHAL', 'UTTAR PRADESH', 'GUJARAT', 'HARYANA', 'PUNJAB',\n",
       "       'ANDAMAN And NICOBAR ISLANDS', 'BIHAR', 'KARNATAKA', 'HIMACHAL',\n",
       "       'MAHARASHTRA', 'ASSAM', 'TAMIL NADU', 'RAJASTHAN',\n",
       "       'ARUNACHAL PRADESH', 'PONDICHERRY', 'KARNATAKA', 'KERALA', 'ASSAM',\n",
       "       'NAGALAND', 'MADHYA PRADESH', 'UTTAR PRADESH', 'BIHAR', 'BIHAR',\n",
       "       'UTTAR PRADESH', 'KARNATAKA', 'JHARKHAND', 'MADHYA PRADESH',\n",
       "       'JHARKHAND', 'MAHARASHTRA', 'KERALA', 'MAHARASHTRA', 'BIHAR',\n",
       "       'HARYANA', 'ASSAM', 'MAHARASHTRA', 'PUNJAB', 'MADHYA PRADESH',\n",
       "       'MADHYA PRADESH', 'ASSAM', 'MADHYA PRADESH', 'KERALA', 'SIKKIM',\n",
       "       'MAHARASHTRA', 'MAHARASHTRA', 'MADHYA PRADESH', 'RAJASTHAN',\n",
       "       'UTTAR PRADESH', 'WEST BENGAL', 'UTTAR PRADESH', 'DELHI', 'BIHAR',\n",
       "       'RAJASTHAN', 'LAKSHADWEEP', 'RAJASTHAN', 'TAMIL NADU',\n",
       "       'MAHARASHTRA', 'NAGALAND', 'SIKKIM', 'RAJASTHAN', 'MIZORAM',\n",
       "       'UTTAR PRADESH', 'UTTAR PRADESH', 'TAMIL NADU', 'HARYANA',\n",
       "       'ARUNACHAL PRADESH', 'SIKKIM', 'KARNATAKA', 'MADHYA PRADESH',\n",
       "       'PUNJAB', 'GUJARAT', 'MAHARASHTRA', 'BIHAR', 'TAMIL NADU',\n",
       "       'HARYANA', 'RAJASTHAN', 'RAJASTHAN', 'ASSAM', 'TAMIL NADU',\n",
       "       'RAJASTHAN', 'WEST BENGAL', 'KARNATAKA', 'MADHYA PRADESH',\n",
       "       'UTTAR PRADESH', 'GUJARAT', 'JHARKHAND',\n",
       "       'ANDAMAN And NICOBAR ISLANDS', 'HARYANA', 'MAHARASHTRA',\n",
       "       'MAHARASHTRA', 'UTTAR PRADESH', 'TAMIL NADU', 'MAHARASHTRA',\n",
       "       'HIMACHAL', 'ORISSA', 'TAMIL NADU', 'HARYANA', 'BIHAR', 'ORISSA',\n",
       "       'KARNATAKA', 'GUJARAT', 'HARYANA', 'UTTAR PRADESH', 'JHARKHAND',\n",
       "       'HIMACHAL', 'JHARKHAND', 'UTTAR PRADESH', 'BIHAR', 'RAJASTHAN',\n",
       "       'GUJARAT', 'MAHARASHTRA', 'GUJARAT', 'ASSAM', 'BIHAR',\n",
       "       'MADHYA PRADESH', 'MAHARASHTRA', 'UTTAR PRADESH'], dtype=object)"
      ]
     },
     "execution_count": 31,
     "metadata": {},
     "output_type": "execute_result"
    }
   ],
   "source": [
    "y_pred"
   ]
  },
  {
   "cell_type": "code",
   "execution_count": 32,
   "metadata": {},
   "outputs": [
    {
     "data": {
      "text/plain": [
       "array(['ORISSA', 'JHARKHAND', 'GUJARAT', 'WEST BENGAL', 'PONDICHERRY',\n",
       "       'UTTAR PRADESH', 'UTTAR PRADESH', 'GUJARAT', 'BIHAR', 'CHATISGARH',\n",
       "       'PUNJAB', 'TAMIL NADU', 'DAMAN AND DUI', 'HIMACHAL', 'MAHARASHTRA',\n",
       "       'JAMMU AND KASHMIR', 'MADHYA PRADESH', 'HIMACHAL', 'TAMIL NADU',\n",
       "       'BIHAR', 'MAHARASHTRA', 'RAJASTHAN', 'CHATISGARH', 'PUNJAB',\n",
       "       'JHARKHAND', 'UTTAR PRADESH', 'MADHYA PRADESH', 'MAHARASHTRA',\n",
       "       'WEST BENGAL', 'MANIPUR', 'TRIPURA', 'GUJARAT', 'MEGHALAYA',\n",
       "       'MADHYA PRADESH', 'MAHARASHTRA', 'MAHARASHTRA', 'HARYANA', 'BIHAR',\n",
       "       'BIHAR', 'ANDHRA PRADESH', 'TAMIL NADU', 'KERALA',\n",
       "       'ANDHRA PRADESH', 'UTTAR PRADESH', 'UTTAR PRADESH', 'MEGHALAYA',\n",
       "       'UTTARANCHAL', 'RAJASTHAN', 'KERALA', 'ARUNACHAL PRADESH',\n",
       "       'MEGHALAYA', 'KARNATAKA', 'MADHYA PRADESH', 'ANDHRA PRADESH',\n",
       "       'MEGHALAYA', 'UTTAR PRADESH', 'CHATISGARH', 'CHATISGARH',\n",
       "       'JAMMU AND KASHMIR', 'UTTAR PRADESH', 'ANDHRA PRADESH', 'NAGALAND',\n",
       "       'ARUNACHAL PRADESH', 'JHARKHAND', 'UTTAR PRADESH', 'UTTAR PRADESH',\n",
       "       'MADHYA PRADESH', 'MADHYA PRADESH', 'UTTAR PRADESH', 'KARNATAKA',\n",
       "       'BIHAR', 'JAMMU AND KASHMIR', 'MAHARASHTRA', 'MADHYA PRADESH',\n",
       "       'JHARKHAND', 'UTTARANCHAL', 'MIZORAM', 'UTTARANCHAL',\n",
       "       'UTTAR PRADESH', 'GUJARAT', 'HARYANA', 'PUNJAB',\n",
       "       'ANDAMAN And NICOBAR ISLANDS', 'CHATISGARH', 'KARNATAKA',\n",
       "       'JAMMU AND KASHMIR', 'ANDHRA PRADESH', 'ASSAM', 'TAMIL NADU',\n",
       "       'RAJASTHAN', 'ARUNACHAL PRADESH', 'PONDICHERRY', 'KARNATAKA',\n",
       "       'ASSAM', 'ASSAM', 'NAGALAND', 'MADHYA PRADESH', 'UTTAR PRADESH',\n",
       "       'MAHARASHTRA', 'BIHAR', 'UTTAR PRADESH', 'ORISSA', 'BIHAR',\n",
       "       'MADHYA PRADESH', 'JHARKHAND', 'MAHARASHTRA', 'KERALA',\n",
       "       'MAHARASHTRA', 'BIHAR', 'PUNJAB', 'ASSAM', 'MAHARASHTRA', 'PUNJAB',\n",
       "       'UTTAR PRADESH', 'MAHARASHTRA', 'ASSAM', 'MADHYA PRADESH',\n",
       "       'KARNATAKA', 'MIZORAM', 'MAHARASHTRA', 'CHATISGARH',\n",
       "       'MADHYA PRADESH', 'RAJASTHAN', 'UTTAR PRADESH',\n",
       "       'ARUNACHAL PRADESH', 'BIHAR', 'DELHI', 'BIHAR', 'MADHYA PRADESH',\n",
       "       'ARUNACHAL PRADESH', 'RAJASTHAN', 'TAMIL NADU', 'MAHARASHTRA',\n",
       "       'NAGALAND', 'SIKKIM', 'RAJASTHAN', 'MIZORAM', 'UTTAR PRADESH',\n",
       "       'UTTAR PRADESH', 'TAMIL NADU', 'HARYANA', 'ARUNACHAL PRADESH',\n",
       "       'ARUNACHAL PRADESH', 'KARNATAKA', 'MADHYA PRADESH', 'PUNJAB',\n",
       "       'GUJARAT', 'MAHARASHTRA', 'UTTAR PRADESH', 'TAMIL NADU', 'PUNJAB',\n",
       "       'RAJASTHAN', 'HARYANA', 'WEST BENGAL', 'TAMIL NADU', 'RAJASTHAN',\n",
       "       'ORISSA', 'KARNATAKA', 'MADHYA PRADESH', 'CHATISGARH', 'GUJARAT',\n",
       "       'BIHAR', 'KERALA', 'UTTAR PRADESH', 'CHATISGARH', 'MAHARASHTRA',\n",
       "       'UTTAR PRADESH', 'TAMIL NADU', 'GUJARAT', 'HIMACHAL', 'ORISSA',\n",
       "       'TAMIL NADU', 'HARYANA', 'BIHAR', 'WEST BENGAL', 'KARNATAKA',\n",
       "       'GUJARAT', 'MADHYA PRADESH', 'UTTAR PRADESH', 'WEST BENGAL',\n",
       "       'HIMACHAL', 'ANDHRA PRADESH', 'UTTAR PRADESH', 'WEST BENGAL',\n",
       "       'RAJASTHAN', 'GUJARAT', 'MAHARASHTRA', 'GUJARAT', 'MEGHALAYA',\n",
       "       'UTTAR PRADESH', 'MADHYA PRADESH', 'MAHARASHTRA', 'RAJASTHAN'],\n",
       "      dtype=object)"
      ]
     },
     "execution_count": 32,
     "metadata": {},
     "output_type": "execute_result"
    }
   ],
   "source": [
    "y_test"
   ]
  },
  {
   "cell_type": "code",
   "execution_count": 33,
   "metadata": {},
   "outputs": [
    {
     "data": {
      "text/plain": [
       "0.6735751295336787"
      ]
     },
     "execution_count": 33,
     "metadata": {},
     "output_type": "execute_result"
    }
   ],
   "source": [
    "from sklearn.metrics import accuracy_score\n",
    "accuracy_score(y_test,y_pred)            #calculating accuracy"
   ]
  },
  {
   "cell_type": "code",
   "execution_count": 34,
   "metadata": {},
   "outputs": [
    {
     "name": "stderr",
     "output_type": "stream",
     "text": [
      "C:\\Users\\ashwa\\Anaconda3new\\lib\\site-packages\\sklearn\\model_selection\\_split.py:657: Warning: The least populated class in y has only 1 members, which is too few. The minimum number of members in any class cannot be less than n_splits=10.\n",
      "  % (min_groups, self.n_splits)), Warning)\n"
     ]
    },
    {
     "name": "stdout",
     "output_type": "stream",
     "text": [
      "** 10-fold cross validation using NB**\n",
      "Accuracy in run  1  ::  0.6290322580645161\n",
      "Accuracy in run  2  ::  0.7068965517241379\n",
      "Accuracy in run  3  ::  0.6666666666666666\n",
      "Accuracy in run  4  ::  0.5869565217391305\n",
      "Accuracy in run  5  ::  0.5777777777777777\n",
      "Accuracy in run  6  ::  0.6\n",
      "Accuracy in run  7  ::  0.6\n",
      "Accuracy in run  8  ::  0.5128205128205128\n",
      "Accuracy in run  9  ::  0.53125\n",
      "Accuracy in run  10  ::  0.6\n",
      "\n",
      "\n",
      "Mean Accuracy==>\t 0.6011400288792741\n"
     ]
    }
   ],
   "source": [
    "from sklearn.model_selection import cross_val_score\n",
    "import numpy as np\n",
    "res2=(cross_val_score(classifier,x_train,y_train,cv=10)) # prints scores of classifier for each run of the cross validation\n",
    "print(\"** 10-fold cross validation using NB**\")\n",
    "for i in range(len(res2)):\n",
    "    print('Accuracy in run ',(i+1),\" :: \" ,res2[i])\n",
    "print(\"\\n\\nMean Accuracy==>\\t\",np.mean(res2))"
   ]
  },
  {
   "cell_type": "code",
   "execution_count": 35,
   "metadata": {},
   "outputs": [
    {
     "data": {
      "text/html": [
       "<div>\n",
       "<style scoped>\n",
       "    .dataframe tbody tr th:only-of-type {\n",
       "        vertical-align: middle;\n",
       "    }\n",
       "\n",
       "    .dataframe tbody tr th {\n",
       "        vertical-align: top;\n",
       "    }\n",
       "\n",
       "    .dataframe thead th {\n",
       "        text-align: right;\n",
       "    }\n",
       "</style>\n",
       "<table border=\"1\" class=\"dataframe\">\n",
       "  <thead>\n",
       "    <tr style=\"text-align: right;\">\n",
       "      <th></th>\n",
       "      <th>Actual</th>\n",
       "      <th>Predicted</th>\n",
       "    </tr>\n",
       "  </thead>\n",
       "  <tbody>\n",
       "    <tr>\n",
       "      <td>0</td>\n",
       "      <td>ORISSA</td>\n",
       "      <td>ORISSA</td>\n",
       "    </tr>\n",
       "    <tr>\n",
       "      <td>1</td>\n",
       "      <td>JHARKHAND</td>\n",
       "      <td>JHARKHAND</td>\n",
       "    </tr>\n",
       "    <tr>\n",
       "      <td>2</td>\n",
       "      <td>GUJARAT</td>\n",
       "      <td>GUJARAT</td>\n",
       "    </tr>\n",
       "    <tr>\n",
       "      <td>3</td>\n",
       "      <td>WEST BENGAL</td>\n",
       "      <td>WEST BENGAL</td>\n",
       "    </tr>\n",
       "    <tr>\n",
       "      <td>4</td>\n",
       "      <td>PONDICHERRY</td>\n",
       "      <td>PONDICHERRY</td>\n",
       "    </tr>\n",
       "    <tr>\n",
       "      <td>...</td>\n",
       "      <td>...</td>\n",
       "      <td>...</td>\n",
       "    </tr>\n",
       "    <tr>\n",
       "      <td>188</td>\n",
       "      <td>MEGHALAYA</td>\n",
       "      <td>ASSAM</td>\n",
       "    </tr>\n",
       "    <tr>\n",
       "      <td>189</td>\n",
       "      <td>UTTAR PRADESH</td>\n",
       "      <td>BIHAR</td>\n",
       "    </tr>\n",
       "    <tr>\n",
       "      <td>190</td>\n",
       "      <td>MADHYA PRADESH</td>\n",
       "      <td>MADHYA PRADESH</td>\n",
       "    </tr>\n",
       "    <tr>\n",
       "      <td>191</td>\n",
       "      <td>MAHARASHTRA</td>\n",
       "      <td>MAHARASHTRA</td>\n",
       "    </tr>\n",
       "    <tr>\n",
       "      <td>192</td>\n",
       "      <td>RAJASTHAN</td>\n",
       "      <td>UTTAR PRADESH</td>\n",
       "    </tr>\n",
       "  </tbody>\n",
       "</table>\n",
       "<p>193 rows × 2 columns</p>\n",
       "</div>"
      ],
      "text/plain": [
       "             Actual       Predicted\n",
       "0            ORISSA          ORISSA\n",
       "1         JHARKHAND       JHARKHAND\n",
       "2           GUJARAT         GUJARAT\n",
       "3       WEST BENGAL     WEST BENGAL\n",
       "4       PONDICHERRY     PONDICHERRY\n",
       "..              ...             ...\n",
       "188       MEGHALAYA           ASSAM\n",
       "189   UTTAR PRADESH           BIHAR\n",
       "190  MADHYA PRADESH  MADHYA PRADESH\n",
       "191     MAHARASHTRA     MAHARASHTRA\n",
       "192       RAJASTHAN   UTTAR PRADESH\n",
       "\n",
       "[193 rows x 2 columns]"
      ]
     },
     "execution_count": 35,
     "metadata": {},
     "output_type": "execute_result"
    }
   ],
   "source": [
    "df = pd.DataFrame({'Actual': y_test.flatten(), 'Predicted': y_pred.flatten()})\n",
    "df"
   ]
  },
  {
   "cell_type": "code",
   "execution_count": 40,
   "metadata": {},
   "outputs": [
    {
     "name": "stdout",
     "output_type": "stream",
     "text": [
      "\n",
      "                             precision    recall  f1-score   support\n",
      "\n",
      "ANDAMAN And NICOBAR ISLANDS       0.33      1.00      0.50         1\n",
      "             ANDHRA PRADESH       1.00      0.33      0.50         6\n",
      "          ARUNACHAL PRADESH       1.00      0.57      0.73         7\n",
      "                      ASSAM       0.44      0.80      0.57         5\n",
      "                      BIHAR       0.50      0.50      0.50        12\n",
      "                 CHATISGARH       0.50      0.12      0.20         8\n",
      "         DADAR NAGAR HAVELI       0.00      0.00      0.00         0\n",
      "              DAMAN AND DUI       0.00      0.00      0.00         1\n",
      "                      DELHI       1.00      1.00      1.00         1\n",
      "                    GUJARAT       1.00      0.90      0.95        10\n",
      "                    HARYANA       0.36      0.80      0.50         5\n",
      "                   HIMACHAL       0.67      1.00      0.80         4\n",
      "          JAMMU AND KASHMIR       1.00      0.50      0.67         4\n",
      "                  JHARKHAND       0.44      0.80      0.57         5\n",
      "                  KARNATAKA       0.70      0.88      0.78         8\n",
      "                     KERALA       0.50      0.50      0.50         4\n",
      "                LAKSHADWEEP       0.00      0.00      0.00         0\n",
      "             MADHYA PRADESH       0.76      0.81      0.79        16\n",
      "                MAHARASHTRA       0.72      0.76      0.74        17\n",
      "                    MANIPUR       0.00      0.00      0.00         1\n",
      "                  MEGHALAYA       0.00      0.00      0.00         5\n",
      "                    MIZORAM       1.00      0.67      0.80         3\n",
      "                   NAGALAND       1.00      1.00      1.00         3\n",
      "                     ORISSA       0.50      0.50      0.50         4\n",
      "                PONDICHERRY       1.00      1.00      1.00         2\n",
      "                     PUNJAB       1.00      0.57      0.73         7\n",
      "                  RAJASTHAN       0.82      0.90      0.86        10\n",
      "                     SIKKIM       0.33      1.00      0.50         1\n",
      "                 TAMIL NADU       0.91      1.00      0.95        10\n",
      "                    TRIPURA       0.50      1.00      0.67         1\n",
      "              UTTAR PRADESH       0.77      0.74      0.76        23\n",
      "                UTTARANCHAL       1.00      0.33      0.50         3\n",
      "                WEST BENGAL       0.20      0.17      0.18         6\n",
      "\n",
      "                   accuracy                           0.67       193\n",
      "                  macro avg       0.61      0.61      0.57       193\n",
      "               weighted avg       0.71      0.67      0.66       193\n",
      "\n",
      "\n",
      "[[ 1  0  0 ...  0  0  0]\n",
      " [ 0  2  0 ...  0  0  0]\n",
      " [ 0  0  4 ...  0  0  1]\n",
      " ...\n",
      " [ 0  0  0 ... 17  0  0]\n",
      " [ 0  0  0 ...  0  1  0]\n",
      " [ 0  0  0 ...  0  0  1]]\n"
     ]
    },
    {
     "name": "stderr",
     "output_type": "stream",
     "text": [
      "C:\\Users\\ashwa\\Anaconda3new\\lib\\site-packages\\sklearn\\metrics\\classification.py:1437: UndefinedMetricWarning: Precision and F-score are ill-defined and being set to 0.0 in labels with no predicted samples.\n",
      "  'precision', 'predicted', average, warn_for)\n",
      "C:\\Users\\ashwa\\Anaconda3new\\lib\\site-packages\\sklearn\\metrics\\classification.py:1439: UndefinedMetricWarning: Recall and F-score are ill-defined and being set to 0.0 in labels with no true samples.\n",
      "  'recall', 'true', average, warn_for)\n"
     ]
    }
   ],
   "source": [
    "from sklearn import metrics\n",
    "print(); print(metrics.classification_report(y_test,y_pred))\n",
    "print(); print(metrics.confusion_matrix(y_test,y_pred))\n",
    "    "
   ]
  }
 ],
 "metadata": {
  "kernelspec": {
   "display_name": "Python 3",
   "language": "python",
   "name": "python3"
  },
  "language_info": {
   "codemirror_mode": {
    "name": "ipython",
    "version": 3
   },
   "file_extension": ".py",
   "mimetype": "text/x-python",
   "name": "python",
   "nbconvert_exporter": "python",
   "pygments_lexer": "ipython3",
   "version": "3.7.6"
  }
 },
 "nbformat": 4,
 "nbformat_minor": 2
}
